{
 "cells": [
  {
   "cell_type": "code",
   "execution_count": 1,
   "metadata": {},
   "outputs": [],
   "source": [
    "import numpy as np\n",
    "import os\n",
    "import cv2\n",
    "from tensorflow.keras.applications import ResNet50\n",
    "from tensorflow.keras.models import Sequential, Model\n",
    "from tensorflow.keras.layers import Dense, GlobalAveragePooling2D, Dropout\n",
    "from tensorflow.keras.preprocessing import image\n",
    "from tensorflow.keras.applications.resnet50 import preprocess_input\n",
    "from tensorflow.keras.optimizers import Adam\n",
    "import matplotlib.pyplot as plt\n",
    "from sklearn.preprocessing import LabelEncoder\n",
    "from sklearn.metrics import accuracy_score, precision_score, recall_score, f1_score, roc_auc_score\n",
    "from sklearn.model_selection import train_test_split\n",
    "from tensorflow.keras.preprocessing.image import ImageDataGenerator\n"
   ]
  },
  {
   "cell_type": "code",
   "execution_count": 2,
   "metadata": {},
   "outputs": [],
   "source": [
    "def image_batch_generator_with_augmentation(features, labels, batch_size=32, datagen=None):\n",
    "    while True:\n",
    "        for start in range(0, len(features), batch_size):\n",
    "            end = min(start + batch_size, len(features))\n",
    "            batch_features = features[start:end]\n",
    "            batch_labels = labels[start:end]\n",
    "\n",
    "            # Resize images to 224x224 and convert grayscale to RGB\n",
    "            batch_features_resized = np.array([cv2.resize(frame, (224, 224)) for frame in batch_features])\n",
    "            batch_features_resized = batch_features_resized.astype('float32')\n",
    "\n",
    "            # Normalize the images (ResNet50 expects input to be preprocessed)\n",
    "            batch_features_resized = preprocess_input(batch_features_resized)\n",
    "\n",
    "            # Apply augmentation using ImageDataGenerator if provided\n",
    "            if datagen:\n",
    "                # Use the generator to create augmented images\n",
    "                augmented_batch = datagen.flow(batch_features_resized, batch_size=batch_size, shuffle=False)\n",
    "                \n",
    "                # Instead of using `.next()`, we can use the generator directly in a for loop\n",
    "                for batch_x in augmented_batch:\n",
    "                    # Batch_x is the augmented images, but we already have batch_labels, so we use them directly\n",
    "                    batch_features_resized = batch_x\n",
    "                    break  # Since we only want the first batch, we break the loop here\n",
    "\n",
    "            # Yield the batch of data (augmented images and original labels)\n",
    "            yield batch_features_resized, batch_labels\n"
   ]
  },
  {
   "cell_type": "code",
   "execution_count": 3,
   "metadata": {},
   "outputs": [],
   "source": [
    "datagen = ImageDataGenerator(\n",
    "    rotation_range=30,  # Randomly rotate images\n",
    "    width_shift_range=0.2,  # Randomly shift images horizontally\n",
    "    height_shift_range=0.2,  # Randomly shift images vertically\n",
    "    shear_range=0.2,  # Apply random shearing transformation\n",
    "    zoom_range=0.2,  # Randomly zoom images\n",
    "    horizontal_flip=True,  # Randomly flip images horizontally\n",
    "    fill_mode='nearest'  # Fill in any missing pixels after transformations\n",
    ")"
   ]
  },
  {
   "cell_type": "code",
   "execution_count": 4,
   "metadata": {},
   "outputs": [],
   "source": [
    "\n",
    "from tensorflow.keras.callbacks import EarlyStopping\n",
    "\n",
    "def classify_with_resnet50(features_train, labels_train, features_val, labels_val, batch_size=32, epochs=10):\n",
    "    print(\"Building and training the ResNet50 model...\")\n",
    "\n",
    "    # Load the ResNet50 model with pre-trained weights (Imagenet)\n",
    "    resnet_model = ResNet50(weights='imagenet', include_top=False, input_shape=(224, 224, 3))\n",
    "\n",
    "    # Add a Global Average Pooling layer and a Dense layer for classification\n",
    "    model = Sequential()\n",
    "    model.add(resnet_model)\n",
    "    model.add(GlobalAveragePooling2D())\n",
    "    model.add(Dense(256, activation='relu'))\n",
    "    model.add(Dropout(0.5))\n",
    "    model.add(Dense(len(np.unique(labels_train)), activation='softmax'))  # Number of classes\n",
    "\n",
    "    # Compile the model\n",
    "    model.compile(optimizer=Adam(), loss='sparse_categorical_crossentropy', metrics=['accuracy'])\n",
    "\n",
    "    # Create EarlyStopping callback\n",
    "    early_stopping = EarlyStopping(monitor='val_loss', patience=3, restore_best_weights=True)\n",
    "\n",
    "    # Train the model and capture history\n",
    "    \n",
    "    history = model.fit(\n",
    "        image_batch_generator_with_augmentation(features_train, labels_train, batch_size, datagen),\n",
    "        steps_per_epoch=len(features_train) // batch_size,\n",
    "        epochs=epochs,\n",
    "        validation_data=image_batch_generator_with_augmentation(features_val, labels_val, batch_size,datagen),\n",
    "        validation_steps=len(features_val) // batch_size,\n",
    "        callbacks=[early_stopping]\n",
    "    )\n",
    "\n",
    "    # Save the model in H5 format\n",
    "    model.save(\"resnet_model.h5\")\n",
    "    print(\"Model saved as resnet_model.h5\")\n",
    "\n",
    "    # Save the model architecture in JSON format\n",
    "    model_json = model.to_json()\n",
    "    with open(\"resnet_model.json\", \"w\") as json_file:\n",
    "        json_file.write(model_json)\n",
    "    print(\"Model architecture saved as resnet_model.json\")\n",
    "\n",
    "    print(\"Model training completed.\")\n",
    "    return model, history\n"
   ]
  },
  {
   "cell_type": "code",
   "execution_count": 5,
   "metadata": {},
   "outputs": [],
   "source": [
    "def process_combined_folders_with_canny(folder_paths, batch_size=1000):\n",
    "    print(f\"Processing {len(folder_paths)} folders with batch size {batch_size}...\")\n",
    "\n",
    "    all_features = []\n",
    "    all_labels = []\n",
    "\n",
    "    for folder_path in folder_paths:\n",
    "        print(f\"Processing folder: {folder_path}\")\n",
    "        if 'HorseRace' in folder_path:\n",
    "            label = 'HorseRace'\n",
    "        elif 'PlayingViolin' in folder_path:\n",
    "            label = 'PlayingViolin'\n",
    "        else:\n",
    "            raise ValueError(f\"Unrecognized folder path: {folder_path}\")\n",
    "\n",
    "        files = [f for f in os.listdir(folder_path) if f.endswith(('.jpg', '.png'))]\n",
    "        for i in range(0, len(files), batch_size):\n",
    "            batch_files = files[i:i + batch_size]\n",
    "            batch_frames = []\n",
    "            batch_labels = []\n",
    "\n",
    "            for filename in batch_files:\n",
    "                frame_path = os.path.join(folder_path, filename)\n",
    "                frame = cv2.imread(frame_path)\n",
    "                if frame is None:\n",
    "                    continue\n",
    "\n",
    "                # If your images are already grayscale, we can directly apply Canny edge detection\n",
    "                # Apply Canny edge detection directly (no need for cvtColor)\n",
    "                edges = cv2.Canny(frame, 100, 200)\n",
    "\n",
    "                # Convert edges to a 3-channel image (RGB) to fit ResNet50 input shape\n",
    "                edges_colored = cv2.cvtColor(edges, cv2.COLOR_GRAY2RGB)\n",
    "\n",
    "                # Append processed image and its label\n",
    "                batch_frames.append(edges_colored)\n",
    "                batch_labels.append(label)\n",
    "\n",
    "            batch_features = np.array(batch_frames)\n",
    "            batch_labels = np.array(batch_labels)\n",
    "\n",
    "            all_features.append(batch_features)\n",
    "            all_labels.append(batch_labels)\n",
    "\n",
    "    all_features = np.concatenate(all_features, axis=0)\n",
    "    all_labels = np.concatenate(all_labels, axis=0)\n",
    "    print(f\"Processing completed. {len(all_features)} frames processed.\")\n",
    "    return all_features, all_labels\n"
   ]
  },
  {
   "cell_type": "code",
   "execution_count": 6,
   "metadata": {},
   "outputs": [],
   "source": [
    "from sklearn.model_selection import train_test_split\n",
    "\n",
    "def split_data(features, labels, test_size=0.2, random_state=42):\n",
    "    \"\"\"\n",
    "    Split the data into training and validation sets.\n",
    "    \"\"\"\n",
    "    print(\"Splitting the data into training and validation sets...\")\n",
    "    \n",
    "    # Encode labels to integers\n",
    "    label_encoder = LabelEncoder()\n",
    "    labels_encoded = label_encoder.fit_transform(labels)\n",
    "\n",
    "    # Split the data into training and validation sets\n",
    "    X_train, X_val, y_train, y_val = train_test_split(features, labels_encoded, test_size=test_size, random_state=random_state)\n",
    "    \n",
    "    return X_train, X_val, y_train, y_val\n"
   ]
  },
  {
   "cell_type": "code",
   "execution_count": 7,
   "metadata": {},
   "outputs": [],
   "source": [
    "def train_model(X_train, y_train, X_val, y_val, batch_size=32, epochs=10):\n",
    "    \"\"\"\n",
    "    Train the ResNet50 model on the training data and return the trained model and history.\n",
    "    \"\"\"\n",
    "    print(\"Building and training the ResNet50 model...\")\n",
    "\n",
    "    # Resize features for ResNet50 (resize frames to 224x224)\n",
    "    X_train_resized = np.array([cv2.resize(frame, (224, 224)) for frame in X_train])\n",
    "    X_val_resized = np.array([cv2.resize(frame, (224, 224)) for frame in X_val])\n",
    "\n",
    "    # Train the model\n",
    "    model, history = classify_with_resnet50(X_train_resized, y_train, X_val_resized, y_val, batch_size, epochs)\n",
    "    \n",
    "    return model, history\n"
   ]
  },
  {
   "cell_type": "code",
   "execution_count": 8,
   "metadata": {},
   "outputs": [],
   "source": [
    "from sklearn.metrics import accuracy_score, precision_score, recall_score, f1_score, roc_auc_score\n",
    "\n",
    "def evaluate_model(model, X_val, y_val):\n",
    "    \"\"\"\n",
    "    Evaluate the trained model on the validation data and print metrics.\n",
    "    \"\"\"\n",
    "    print(\"Evaluating the model...\")\n",
    "\n",
    "    # Resize features for ResNet50 (resize frames to 224x224)\n",
    "    X_val_resized = np.array([cv2.resize(frame, (224, 224)) for frame in X_val])\n",
    "\n",
    "    # Predict the labels\n",
    "    y_pred = model.predict(X_val_resized)\n",
    "    y_pred_classes = np.argmax(y_pred, axis=1)\n",
    "\n",
    "    # Calculate evaluation metrics\n",
    "    accuracy = accuracy_score(y_val, y_pred_classes)\n",
    "    precision = precision_score(y_val, y_pred_classes, average='weighted')\n",
    "    recall = recall_score(y_val, y_pred_classes, average='weighted')\n",
    "    f1 = f1_score(y_val, y_pred_classes, average='weighted')\n",
    "\n",
    "    if len(np.unique(y_val)) == 2:\n",
    "        roc_auc = roc_auc_score(y_val, y_pred[:, 1])\n",
    "    else:\n",
    "        roc_auc = None\n",
    "\n",
    "    # Print the metrics\n",
    "    print(f\"Accuracy: {accuracy}\")\n",
    "    print(f\"Precision: {precision}\")\n",
    "    print(f\"Recall: {recall}\")\n",
    "    print(f\"F1-Score: {f1}\")\n",
    "    if roc_auc is not None:\n",
    "        print(f\"ROC-AUC: {roc_auc}\")\n",
    "    else:\n",
    "        print(\"ROC-AUC is not applicable for multi-class classification\")\n"
   ]
  },
  {
   "cell_type": "code",
   "execution_count": 9,
   "metadata": {},
   "outputs": [],
   "source": [
    "def plot_training_history(history):\n",
    "    # Plot training & validation accuracy values\n",
    "    plt.figure(figsize=(12, 6))\n",
    "\n",
    "    plt.subplot(1, 2, 1)\n",
    "    plt.plot(history.history['accuracy'], label='Train Accuracy')\n",
    "    plt.plot(history.history['val_accuracy'], label='Val Accuracy')\n",
    "    plt.title('Training vs Validation Accuracy')\n",
    "    plt.xlabel('Epochs')\n",
    "    plt.ylabel('Accuracy')\n",
    "    plt.legend(loc='best')\n",
    "\n",
    "    # Plot training & validation loss values\n",
    "    plt.subplot(1, 2, 2)\n",
    "    plt.plot(history.history['loss'], label='Train Loss')\n",
    "    plt.plot(history.history['val_loss'], label='Val Loss')\n",
    "    plt.title('Training vs Validation Loss')\n",
    "    plt.xlabel('Epochs')\n",
    "    plt.ylabel('Loss')\n",
    "    plt.legend(loc='best')\n",
    "\n",
    "    plt.tight_layout()\n",
    "    plt.show()"
   ]
  },
  {
   "cell_type": "code",
   "execution_count": 10,
   "metadata": {},
   "outputs": [
    {
     "name": "stdout",
     "output_type": "stream",
     "text": [
      "Processing 2 folders with batch size 500...\n",
      "Processing folder: C:\\Users\\ASUS\\Documents\\UASCOMVISKEL1\\Dataset\\Dataset_CS\\HorseRaceResult\\CS_Median_Filtered_Folder\n",
      "Processing folder: C:\\Users\\ASUS\\Documents\\UASCOMVISKEL1\\Dataset\\Dataset_CS\\PlayingViolinResult\\CS_Median_Filtered_Folder\n",
      "Processing completed. 51129 frames processed.\n"
     ]
    }
   ],
   "source": [
    "# Path folder dataset\n",
    "folder_path1 = r'C:\\Users\\ASUS\\Documents\\UASCOMVISKEL1\\Dataset\\Dataset_CS\\HorseRaceResult\\CS_Median_Filtered_Folder'\n",
    "folder_path2 = r'C:\\Users\\ASUS\\Documents\\UASCOMVISKEL1\\Dataset\\Dataset_CS\\PlayingViolinResult\\CS_Median_Filtered_Folder'\n",
    "\n",
    "# Process folder with batch processing\n",
    "features_with_canny, labels_with_canny = process_combined_folders_with_canny([folder_path1, folder_path2], batch_size=500)"
   ]
  },
  {
   "cell_type": "code",
   "execution_count": 11,
   "metadata": {},
   "outputs": [
    {
     "name": "stdout",
     "output_type": "stream",
     "text": [
      "Splitting the data into training and validation sets...\n"
     ]
    }
   ],
   "source": [
    "X_train, X_val, y_train, y_val = split_data(features_with_canny, labels_with_canny)"
   ]
  },
  {
   "cell_type": "code",
   "execution_count": 12,
   "metadata": {},
   "outputs": [
    {
     "name": "stdout",
     "output_type": "stream",
     "text": [
      "Building and training the ResNet50 model...\n",
      "Building and training the ResNet50 model...\n",
      "Epoch 1/10\n",
      "\u001b[1m1278/1278\u001b[0m \u001b[32m━━━━━━━━━━━━━━━━━━━━\u001b[0m\u001b[37m\u001b[0m \u001b[1m5539s\u001b[0m 4s/step - accuracy: 0.9406 - loss: 0.1849 - val_accuracy: 0.8659 - val_loss: 0.4481\n",
      "Epoch 2/10\n",
      "\u001b[1m1278/1278\u001b[0m \u001b[32m━━━━━━━━━━━━━━━━━━━━\u001b[0m\u001b[37m\u001b[0m \u001b[1m5605s\u001b[0m 4s/step - accuracy: 0.9862 - loss: 0.0393 - val_accuracy: 0.9792 - val_loss: 0.0571\n",
      "Epoch 3/10\n",
      "\u001b[1m1278/1278\u001b[0m \u001b[32m━━━━━━━━━━━━━━━━━━━━\u001b[0m\u001b[37m\u001b[0m \u001b[1m5419s\u001b[0m 4s/step - accuracy: 0.9901 - loss: 0.0291 - val_accuracy: 0.9854 - val_loss: 0.0447\n",
      "Epoch 4/10\n",
      "\u001b[1m1278/1278\u001b[0m \u001b[32m━━━━━━━━━━━━━━━━━━━━\u001b[0m\u001b[37m\u001b[0m \u001b[1m5417s\u001b[0m 4s/step - accuracy: 0.9920 - loss: 0.0233 - val_accuracy: 0.9928 - val_loss: 0.0222\n",
      "Epoch 5/10\n",
      "\u001b[1m1278/1278\u001b[0m \u001b[32m━━━━━━━━━━━━━━━━━━━━\u001b[0m\u001b[37m\u001b[0m \u001b[1m5388s\u001b[0m 4s/step - accuracy: 0.9929 - loss: 0.0240 - val_accuracy: 0.9973 - val_loss: 0.0079\n",
      "Epoch 6/10\n",
      "\u001b[1m1278/1278\u001b[0m \u001b[32m━━━━━━━━━━━━━━━━━━━━\u001b[0m\u001b[37m\u001b[0m \u001b[1m5371s\u001b[0m 4s/step - accuracy: 0.9934 - loss: 0.0189 - val_accuracy: 0.8699 - val_loss: 0.7072\n",
      "Epoch 7/10\n",
      "\u001b[1m1278/1278\u001b[0m \u001b[32m━━━━━━━━━━━━━━━━━━━━\u001b[0m\u001b[37m\u001b[0m \u001b[1m5456s\u001b[0m 4s/step - accuracy: 0.9934 - loss: 0.0194 - val_accuracy: 0.9863 - val_loss: 0.0374\n",
      "Epoch 8/10\n",
      "\u001b[1m1278/1278\u001b[0m \u001b[32m━━━━━━━━━━━━━━━━━━━━\u001b[0m\u001b[37m\u001b[0m \u001b[1m5406s\u001b[0m 4s/step - accuracy: 0.9957 - loss: 0.0124 - val_accuracy: 0.9858 - val_loss: 0.0392\n"
     ]
    },
    {
     "name": "stderr",
     "output_type": "stream",
     "text": [
      "WARNING:absl:You are saving your model as an HDF5 file via `model.save()` or `keras.saving.save_model(model)`. This file format is considered legacy. We recommend using instead the native Keras format, e.g. `model.save('my_model.keras')` or `keras.saving.save_model(model, 'my_model.keras')`. \n"
     ]
    },
    {
     "name": "stdout",
     "output_type": "stream",
     "text": [
      "Model saved as resnet_model.h5\n",
      "Model architecture saved as resnet_model.json\n",
      "Model training completed.\n"
     ]
    }
   ],
   "source": [
    "# Step 2: Train the model\n",
    "model, history = train_model(X_train, y_train, X_val, y_val)"
   ]
  },
  {
   "cell_type": "code",
   "execution_count": 13,
   "metadata": {},
   "outputs": [
    {
     "name": "stdout",
     "output_type": "stream",
     "text": [
      "Evaluating the model...\n",
      "\u001b[1m320/320\u001b[0m \u001b[32m━━━━━━━━━━━━━━━━━━━━\u001b[0m\u001b[37m\u001b[0m \u001b[1m257s\u001b[0m 797ms/step\n"
     ]
    },
    {
     "name": "stderr",
     "output_type": "stream",
     "text": [
      "c:\\Users\\ASUS\\AppData\\Local\\Programs\\Python\\Python312\\Lib\\site-packages\\sklearn\\metrics\\_classification.py:1565: UndefinedMetricWarning: Precision is ill-defined and being set to 0.0 in labels with no predicted samples. Use `zero_division` parameter to control this behavior.\n",
      "  _warn_prf(average, modifier, f\"{metric.capitalize()} is\", len(result))\n"
     ]
    },
    {
     "name": "stdout",
     "output_type": "stream",
     "text": [
      "Accuracy: 0.6422843731664385\n",
      "Precision: 0.4125292160138049\n",
      "Recall: 0.6422843731664385\n",
      "F1-Score: 0.502384632959053\n",
      "ROC-AUC: 0.24617760016089407\n"
     ]
    }
   ],
   "source": [
    "# Step 3: Evaluate the model\n",
    "evaluate_model(model, X_val, y_val)"
   ]
  },
  {
   "cell_type": "code",
   "execution_count": 14,
   "metadata": {},
   "outputs": [
    {
     "data": {
      "image/png": "[encoded data removed]",
      "text/plain": [
       "<Figure size 1200x600 with 2 Axes>"
      ]
     },
     "metadata": {},
     "output_type": "display_data"
    }
   ],
   "source": [
    "# Plot the training history\n",
    "plot_training_history(history)"
   ]
  },
  {
   "cell_type": "code",
   "execution_count": 15,
   "metadata": {},
   "outputs": [],
   "source": [
    "import numpy as np\n",
    "import cv2\n",
    "from tensorflow.keras.models import load_model\n",
    "from tensorflow.keras.applications.resnet50 import preprocess_input\n",
    "\n",
    "# Function to preprocess a single image (resize and normalize)\n",
    "def preprocess_single_image_with_canny(image_path):\n",
    "    \"\"\"\n",
    "    Load and preprocess a single image for prediction.\n",
    "    Resize to 224x224, normalize for ResNet50 input, and apply Canny edge detection.\n",
    "    \"\"\"\n",
    "    # Load the image\n",
    "    img = cv2.imread(image_path)\n",
    "    if img is None:\n",
    "        print(f\"Error loading image {image_path}\")\n",
    "        return None\n",
    "    \n",
    "    # Convert to grayscale for Canny edge detection\n",
    "    gray_img = cv2.cvtColor(img, cv2.COLOR_BGR2GRAY)\n",
    "\n",
    "    # Apply Canny edge detection\n",
    "    edges = cv2.Canny(gray_img, 100, 200)\n",
    "\n",
    "    # Convert edges to RGB\n",
    "    edges_colored = cv2.cvtColor(edges, cv2.COLOR_GRAY2RGB)\n",
    "\n",
    "    # Resize image to 224x224 (input size for ResNet50)\n",
    "    img_resized = cv2.resize(edges_colored, (224, 224))\n",
    "\n",
    "    # Normalize the image for ResNet50 (subtract mean pixel values)\n",
    "    img_resized = np.expand_dims(img_resized, axis=0)\n",
    "    img_resized = img_resized.astype('float32')\n",
    "    img_resized = preprocess_input(img_resized)\n",
    "\n",
    "    return img_resized\n"
   ]
  },
  {
   "cell_type": "code",
   "execution_count": 16,
   "metadata": {},
   "outputs": [],
   "source": [
    "def predict_image_with_canny(model, image_path):\n",
    "    \"\"\"\n",
    "    Predict the class of the image using the trained model with Canny edge detection applied.\n",
    "    \"\"\"\n",
    "    # Preprocess the image\n",
    "    img_resized = preprocess_single_image_with_canny(image_path)\n",
    "    \n",
    "    if img_resized is None:\n",
    "        return\n",
    "\n",
    "    # Predict the class using the model\n",
    "    prediction = model.predict(img_resized)\n",
    "    predicted_class = np.argmax(prediction, axis=1)\n",
    "\n",
    "    # Map the predicted class to the corresponding label\n",
    "    class_names = ['HorseRace', 'PlayingViolin']  # Adjust as needed for your model\n",
    "    predicted_label = class_names[predicted_class[0]]\n",
    "\n",
    "    # Display the image\n",
    "    img = cv2.imread(image_path)\n",
    "    img_rgb = cv2.cvtColor(img, cv2.COLOR_BGR2RGB)  # Convert to RGB for display\n",
    "    plt.imshow(img_rgb)\n",
    "    plt.axis('off')  # Turn off axis\n",
    "    plt.title(f\"Predicted: {predicted_label}\")\n",
    "    plt.show()\n",
    "\n",
    "    print(f\"Predicted class for the image {image_path}: {predicted_label}\")\n",
    "    return predicted_label\n"
   ]
  },
  {
   "cell_type": "code",
   "execution_count": 17,
   "metadata": {},
   "outputs": [],
   "source": [
    "# Path to the image for prediction\n",
    "image_path = 'Violin_CS Filtered.png'\n"
   ]
  },
  {
   "cell_type": "code",
   "execution_count": 18,
   "metadata": {},
   "outputs": [
    {
     "name": "stdout",
     "output_type": "stream",
     "text": [
      "Error loading image Violin_CS Filtered.png\n"
     ]
    }
   ],
   "source": [
    "# Make a prediction on the image\n",
    "predict_image_with_canny(model, image_path)"
   ]
  },
  {
   "cell_type": "code",
   "execution_count": 19,
   "metadata": {},
   "outputs": [],
   "source": [
    "# Path to the image for prediction\n",
    "image_path = 'Horse_CS Filtered.png'\n"
   ]
  },
  {
   "cell_type": "code",
   "execution_count": 20,
   "metadata": {},
   "outputs": [
    {
     "name": "stdout",
     "output_type": "stream",
     "text": [
      "Error loading image Horse_CS Filtered.png\n"
     ]
    }
   ],
   "source": [
    "# Make a prediction on the image\n",
    "predict_image_with_canny(model, image_path)"
   ]
  }
 ],
 "metadata": {
  "kernelspec": {
   "display_name": "Python 3",
   "language": "python",
   "name": "python3"
  },
  "language_info": {
   "codemirror_mode": {
    "name": "ipython",
    "version": 3
   },
   "file_extension": ".py",
   "mimetype": "text/x-python",
   "name": "python",
   "nbconvert_exporter": "python",
   "pygments_lexer": "ipython3",
   "version": "3.12.3"
  }
 },
 "nbformat": 4,
 "nbformat_minor": 2
}
